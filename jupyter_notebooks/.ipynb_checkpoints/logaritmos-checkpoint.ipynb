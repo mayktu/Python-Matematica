{
 "cells": [
  {
   "cell_type": "markdown",
   "metadata": {},
   "source": [
    "# Logaritmos\n",
    "\n",
    "## Introdução\n",
    "\n",
    "Em matemática, o logaritmo é a **[Função Inversa](https://en.wikipedia.org/wiki/Inverse_function)** da exponenciação. \n",
    "\n",
    "Adição, multiplicação e exponenciação são **três** das operações aritméticas **fundamentais**. \n",
    "\n",
    "A adição, a mais simples delas, é desfeita por subtração: quando você adiciona `10` em `x` para obter `x + 10`, para reverter essa operação, você precisa subtrair `10` de `x + 10`, voltando assim ao valor original. \n",
    "\n",
    "A multiplicação, a operação mais simples, é desfeita pela divisão: se você multiplicar `x` por `3` para obter `3x`, você deve então dividir `3x` por `3` para retornar à expressão original `x`.\n",
    "\n",
    "Os logaritmos também desfazem uma operação aritmética fundamental, a **[Exponenciação](https://en.wikipedia.org/wiki/Exponentiation)**, que é quando você aumenta um número para uma determinada potência. Por exemplo, aumentar `2` para a potência `4` é igual a `16`.\n",
    "\n",
    "Isso significa que o logaritmo de um determinado número `x` é o `expoente` para o qual outro número fixo, de base `b`, deve ser elevado, para produzir esse número `x`.\n",
    "\n",
    "No caso mais simples, o logaritmo conta o número de ocorrências do mesmo fator na multiplicação repetida. Uma vez que $ 1000 = 10 \\times 10 \\times 10 = 10^{3} $, o logaritmo de `1000` na base `10` é igual a `3` ou podemos também dizer $\\log_{10}(1000) = 3$\n",
    "\n",
    "Generalizando nós temos então\n",
    "\n",
    "$\\log_{b}(a) = c \\quad \\Longleftrightarrow \\quad b^{c} = a$\n",
    "\n",
    "## Histórico\n",
    "\n",
    "Os logaritmos foram introduzidos por **[John Napier](https://en.wikipedia.org/wiki/John_Napier)** em 1614 como um meio de simplificar os cálculos. Eles foram rapidamente adotados por navegadores, cientistas, engenheiros, pesquisadores e outros para realizar cálculos de alta precisão mais facilmente. \n",
    "\n",
    "Usando tabelas de logaritmo, as etapas tediosas de multiplicação de vários dígitos podem ser substituídas por pesquisas de tabela e adição mais simples. Isso é possível devido ao fato de que o logaritmo de um produto é a soma dos logaritmos dos fatores:\n",
    "\n",
    "$\\log_{b}(x \\cdot y) = \\log_b(x) + \\log_b(y)$\n",
    "\n",
    "## Aplicações\n",
    "\n",
    "As escalas logarítmicas reduzem grandes quantidades a pequenos escopos. Por exemplo, o **decibel (dB)** é uma unidade usada para expressar a razão como logaritmos, principalmente para potência e amplitude do sinal (cuja pressão sonora é um exemplo comum). \n",
    "\n",
    "Em química, o **pH** é uma medida logarítmica da acidez de uma solução aquosa. Os logaritmos são comuns em fórmulas científicas e em medidas da complexidade de algoritmos e objetos geométricos chamados fractais. Eles ajudam a descrever as taxas de frequência dos intervalos musicais, aparecem em fórmulas de contagem de números primos ou fatoriais aproximados.\n",
    "\n",
    "Os logaritmos são úteis para resolver equações nas quais o desconhecido aparece como expoente de alguma outra quantidade. Por exemplo, logaritmos são usados para resolver a **[meia-vida](https://en.wikipedia.org/wiki/Half-life)**, constante de decaimento ou tempo desconhecido em problemas de decaimento exponencial.\n",
    "\n",
    "## Python\n",
    "\n",
    "Vejamos alguns exemplos em Python"
   ]
  },
  {
   "cell_type": "code",
   "execution_count": 224,
   "metadata": {},
   "outputs": [],
   "source": [
    "# Iniciamos importando bibliotecas matemáticas\n",
    "import math\n",
    "import numpy as np\n",
    "import matplotlib.pyplot as plt\n",
    "%matplotlib inline"
   ]
  },
  {
   "cell_type": "markdown",
   "metadata": {},
   "source": [
    "#### Exemplo 1\n",
    "\n",
    "O logaritmo binário usa a base 2 (que é `b = 2`) e é comumente usado em ciência da computação. Logaritmos são exemplos de funções côncavas.\n",
    "\n",
    "Vamos definir `x = 16` e a base como `b = 2`\n",
    "\n",
    "$x = 16 \\quad \\quad b = 2$\n",
    "\n",
    "$ x > 0 \\quad \\quad b > 0 \\quad \\quad b \\neq 1  $\n",
    "\n",
    "$\\log_{b}(x) = logx $\n",
    "\n",
    "$b^{logx} = x $"
   ]
  },
  {
   "cell_type": "code",
   "execution_count": 257,
   "metadata": {},
   "outputs": [
    {
     "name": "stdout",
     "output_type": "stream",
     "text": [
      "O valor da base b é: 2\n",
      "O valor de x é: 16\n",
      "O valor do log de x é: 4.0\n",
      "Calculando x com a base e o log de x: 16.0\n",
      "Calculando o valor de x com a base 16\n"
     ]
    }
   ],
   "source": [
    "x = 16\n",
    "b = 2\n",
    "\n",
    "# Calculamos o log de x na base b\n",
    "logx = math.log(x, b)\n",
    "print(f'O valor da base b é: {b}')\n",
    "print(f'O valor de x é: {x}')\n",
    "print(f'O valor do log de x é: {log_x}')\n",
    "print(f'Calculando x com a base e o log de x: {b ** log_x}')\n",
    "print(f'Calculando o valor de x com a base {b * b * b * b}')"
   ]
  },
  {
   "cell_type": "markdown",
   "metadata": {},
   "source": [
    "#### Exemplo 2\n",
    "\n",
    "O logaritmo base 10 (que é `b = 10`) é chamado de logaritmo comum e tem muitas aplicações em ciências e engenharia.\n",
    "\n",
    "Vamos definir `y = 100` e a base como `b = 10`\n",
    "\n",
    "$y = 100 \\quad \\quad b = 10$\n",
    "\n",
    "$ y > 0 \\quad \\quad b > 0 \\quad \\quad b \\neq 1  $\n",
    "\n",
    "$\\log_{b}(y) = logy $\n",
    "\n",
    "$b^{logy} = x $"
   ]
  },
  {
   "cell_type": "code",
   "execution_count": 254,
   "metadata": {},
   "outputs": [
    {
     "name": "stdout",
     "output_type": "stream",
     "text": [
      "O valor da base b é: 10\n",
      "O valor de y é: 100\n",
      "O valor do log de y é: 2.0\n",
      "Calculando y com a base e o log de y: 100.0\n",
      "Calculando o valor de y com a base 100\n"
     ]
    }
   ],
   "source": [
    "y = 100\n",
    "b = 10\n",
    "\n",
    "# Calculamos o log de y na base b\n",
    "logy = math.log(y, b)\n",
    "print(f'O valor da base b é: {b}')\n",
    "print(f'O valor de y é: {y}')\n",
    "print(f'O valor do log de y é: {log_y}')\n",
    "print(f'Calculando y com a base e o log de y: {b ** log_y}')\n",
    "print(f'Calculando o valor de y com a base {b * b}')"
   ]
  },
  {
   "cell_type": "markdown",
   "metadata": {},
   "source": [
    "### Recursão\n",
    "\n",
    "Podemos também calcular o **logaritmo** através de uma função recursiva, vejamos um exemplo:"
   ]
  },
  {
   "cell_type": "code",
   "execution_count": 239,
   "metadata": {},
   "outputs": [],
   "source": [
    "def log_function(x, b):\n",
    "    if x < b:\n",
    "        return 0  \n",
    "    return 1 + log_function(x/b, b)"
   ]
  },
  {
   "cell_type": "code",
   "execution_count": 240,
   "metadata": {},
   "outputs": [
    {
     "data": {
      "text/plain": [
       "True"
      ]
     },
     "execution_count": 240,
     "metadata": {},
     "output_type": "execute_result"
    }
   ],
   "source": [
    "log_function(64, 2) == math.log2(64)"
   ]
  },
  {
   "cell_type": "code",
   "execution_count": 241,
   "metadata": {},
   "outputs": [
    {
     "data": {
      "text/plain": [
       "True"
      ]
     },
     "execution_count": 241,
     "metadata": {},
     "output_type": "execute_result"
    }
   ],
   "source": [
    "log_function(100, 10) == math.log10(100)"
   ]
  },
  {
   "cell_type": "code",
   "execution_count": 243,
   "metadata": {},
   "outputs": [
    {
     "data": {
      "text/plain": [
       "4"
      ]
     },
     "execution_count": 243,
     "metadata": {},
     "output_type": "execute_result"
    }
   ],
   "source": [
    "log_function(16, 2)"
   ]
  },
  {
   "cell_type": "markdown",
   "metadata": {},
   "source": [
    "### Logaritmo Natural\n",
    "\n",
    "O logaritmo natural tem o número e (que é `b = 2,718...`) como sua base. Seu uso é generalizado em matemática e física, devido à sua integral e derivada mais simples.\n",
    "\n",
    "Ele pode ser definido como:\n",
    "\n",
    "\\begin{equation} ln(x) = \\lim_{n\\to\\infty}n (x^\\frac{1}{n} - 1)\\end{equation}"
   ]
  },
  {
   "cell_type": "code",
   "execution_count": 170,
   "metadata": {},
   "outputs": [],
   "source": [
    "def log_natural(x):\n",
    "    n = 10000.0\n",
    "    return n * ((x ** (1/n)) - 1)"
   ]
  },
  {
   "cell_type": "code",
   "execution_count": 72,
   "metadata": {},
   "outputs": [
    {
     "data": {
      "text/plain": [
       "4.606230728403382"
      ]
     },
     "execution_count": 72,
     "metadata": {},
     "output_type": "execute_result"
    }
   ],
   "source": [
    "log_natural(100)"
   ]
  },
  {
   "cell_type": "markdown",
   "metadata": {},
   "source": [
    "Também podemos utilizar a função `log()` da biblioteca **math**"
   ]
  },
  {
   "cell_type": "code",
   "execution_count": 245,
   "metadata": {},
   "outputs": [
    {
     "data": {
      "text/plain": [
       "4.605170185988092"
      ]
     },
     "execution_count": 245,
     "metadata": {},
     "output_type": "execute_result"
    }
   ],
   "source": [
    "math.log(100, math.e)"
   ]
  },
  {
   "cell_type": "markdown",
   "metadata": {},
   "source": [
    "Podemos também utilizar a biblioteca **numpy**"
   ]
  },
  {
   "cell_type": "code",
   "execution_count": 248,
   "metadata": {},
   "outputs": [
    {
     "data": {
      "text/plain": [
       "4.605170185988092"
      ]
     },
     "execution_count": 248,
     "metadata": {},
     "output_type": "execute_result"
    }
   ],
   "source": [
    "np.log(100)"
   ]
  },
  {
   "cell_type": "markdown",
   "metadata": {},
   "source": [
    "A função logaritmo natural, se considerada como uma função com valor real de uma variável real, é a função inversa da função exponencial, levando-nos às identidades:\n",
    "\n",
    "$ e^{ln(x)} = x  \\quad \\quad x > 0$\n",
    "\n",
    "$ ln(e^{x}) = x$"
   ]
  },
  {
   "cell_type": "code",
   "execution_count": 268,
   "metadata": {},
   "outputs": [
    {
     "name": "stdout",
     "output_type": "stream",
     "text": [
      "Calculando o log de e na base e: 1.0\n",
      "Calculando o log de z na base e: 4.605170185988092\n",
      "Obtendo z ao elevar o número e ao log natural de z: 100.00000000000001\n",
      "Elevando o número e ao log natural de z para obtermos o log de z: \n",
      "      4.605170185988092\n"
     ]
    }
   ],
   "source": [
    "e = math.e\n",
    "z = 100\n",
    "\n",
    "print(f'Calculando o log de e na base e: {math.log(e)}')\n",
    "print(f'Calculando o log de z na base e: {math.log(z)}')\n",
    "print(f'Obtendo z ao elevar o número e ao log natural de z: {math.e ** math.log(z)}')\n",
    "print(f'''Elevando o número e ao log natural de z para obtermos o log de z: \n",
    "      {math.log(math.e ** math.log(100))}''')"
   ]
  },
  {
   "cell_type": "markdown",
   "metadata": {},
   "source": [
    "Testando as funções para diversos valores"
   ]
  },
  {
   "cell_type": "code",
   "execution_count": 199,
   "metadata": {},
   "outputs": [
    {
     "name": "stdout",
     "output_type": "stream",
     "text": [
      "0.0 = 0.0 = 0.0\n",
      "0.6931712037649973 = 0.6931471805599453 = 0.6931471805599453\n",
      "1.0986726383266365 = 1.0986122886681098 = 1.0986122886681098\n",
      "1.386390456163955 = 1.3862943611198906 = 1.3862943611198906\n",
      "1.6095674339022814 = 1.6094379124341003 = 1.6094379124341003\n",
      "1.7919199989147039 = 1.791759469228055 = 1.791759469228055\n",
      "1.9460994896514094 = 1.9459101490553132 = 1.9459101490553132\n",
      "2.0796577605231015 = 2.0794415416798357 = 2.0794415416798357\n",
      "2.197465984807856 = 2.1972245773362196 = 2.1972245773362196\n",
      "2.3028502082467206 = 2.302585092994046 = 2.302585092994046\n",
      "2.3981827908658992 = 2.3978952727983707 = 2.3978952727983707\n"
     ]
    }
   ],
   "source": [
    "numeros = np.arange(1,12)\n",
    "for num in numeros:\n",
    "    print(f'{log_natural(num)} = {math.log(num)} = {np.log(num)}')"
   ]
  },
  {
   "cell_type": "markdown",
   "metadata": {},
   "source": [
    "### Projetando um Gráfico Logarítmico\n",
    "\n",
    "Vamos definir um array de `dados` com `50` entradas e vamos alimentá-los nas funções `log()`, `log2()` e `log10()` da biblioteca **numpy**"
   ]
  },
  {
   "cell_type": "code",
   "execution_count": 251,
   "metadata": {},
   "outputs": [],
   "source": [
    "dados = np.arange(1, 51)\n",
    "log_natural = np.log(dados)\n",
    "log_base_2 = np.log2(dados)\n",
    "log_base_10 = np.log10(dados)"
   ]
  },
  {
   "cell_type": "markdown",
   "metadata": {},
   "source": [
    "Definindo o gráfico de Logaritmos"
   ]
  },
  {
   "cell_type": "code",
   "execution_count": 97,
   "metadata": {},
   "outputs": [
    {
     "data": {
      "image/png": "[encoded data removed]",
      "text/plain": [
       "<Figure size 1008x576 with 1 Axes>"
      ]
     },
     "metadata": {
      "needs_background": "light"
     },
     "output_type": "display_data"
    }
   ],
   "source": [
    "plt.figure(figsize=(14,8))\n",
    "plt.xlabel('Dados de entrada', fontsize=16)\n",
    "plt.ylabel('Função Logarítmica', fontsize=16)\n",
    "plt.title('Logaritmos', fontsize=25)\n",
    "plt.grid()\n",
    "plt.plot(dados, log_natural, linewidth=4, color='r', label='log natural')\n",
    "plt.plot(dados, log_base_2, linewidth=4, color='b', label='log base 2')\n",
    "plt.plot(dados, log_base_10, linewidth=4, color='g', label='log base 10')\n",
    "plt.legend(fontsize=16)\n",
    "plt.show()"
   ]
  },
  {
   "cell_type": "markdown",
   "metadata": {},
   "source": [
    "### Identidades dos Logaritmos\n",
    "\n",
    "Diversas fórmulas importantes, às vezes chamadas de identidades logarítmicas ou leis logarítmicas, relacionam os logaritmos entre si"
   ]
  },
  {
   "cell_type": "markdown",
   "metadata": {},
   "source": [
    "#### Produto\n",
    "\n",
    "O logaritmo de um produto é a soma dos logaritmos dos números multiplicados\n",
    "\n",
    "$\\log_{b}(x \\cdot y) = \\log_{b}(x) + \\log_{b}(y)$"
   ]
  },
  {
   "cell_type": "markdown",
   "metadata": {},
   "source": [
    "$ \\log_{2}(4 \\cdot 32) = \\log_{2}(4) + \\log_{2}(32) $"
   ]
  },
  {
   "cell_type": "code",
   "execution_count": 154,
   "metadata": {},
   "outputs": [
    {
     "data": {
      "text/plain": [
       "True"
      ]
     },
     "execution_count": 154,
     "metadata": {},
     "output_type": "execute_result"
    }
   ],
   "source": [
    "math.log2(4 * 32) == math.log2(4) + math.log2(32)"
   ]
  },
  {
   "cell_type": "markdown",
   "metadata": {},
   "source": [
    "$ \\log_{2}(2^2 \\cdot 2^5) = \\log_{2}(2^{2+5})$"
   ]
  },
  {
   "cell_type": "code",
   "execution_count": 157,
   "metadata": {},
   "outputs": [
    {
     "data": {
      "text/plain": [
       "True"
      ]
     },
     "execution_count": 157,
     "metadata": {},
     "output_type": "execute_result"
    }
   ],
   "source": [
    "math.log2(2**2 * 2**5) == math.log2(2**(2+5))"
   ]
  },
  {
   "cell_type": "markdown",
   "metadata": {},
   "source": [
    "#### Potência\n",
    "\n",
    "O logaritmo da potência `y` de um número é `y` vezes o logaritmo do número em si\n",
    "\n",
    "$\\log_{b}(x^y) = y \\cdot \\log_{b}(x)$"
   ]
  },
  {
   "cell_type": "markdown",
   "metadata": {},
   "source": [
    "$\\log_{10}(10^3) = 3 \\cdot \\log_{10}(10)$"
   ]
  },
  {
   "cell_type": "code",
   "execution_count": 159,
   "metadata": {},
   "outputs": [
    {
     "data": {
      "text/plain": [
       "True"
      ]
     },
     "execution_count": 159,
     "metadata": {},
     "output_type": "execute_result"
    }
   ],
   "source": [
    "math.log10(10**3) == 3 * math.log10(10)"
   ]
  },
  {
   "cell_type": "markdown",
   "metadata": {},
   "source": [
    "$\\log_{10}(10 \\cdot 10 \\cdot 10) = \\log_{10}(10) + \\log_{10}(10) + \\log_{10}(10)$"
   ]
  },
  {
   "cell_type": "code",
   "execution_count": 160,
   "metadata": {},
   "outputs": [
    {
     "data": {
      "text/plain": [
       "True"
      ]
     },
     "execution_count": 160,
     "metadata": {},
     "output_type": "execute_result"
    }
   ],
   "source": [
    "math.log10(10 * 10 * 10) == math.log10(10) + math.log10(10) + math.log10(10)"
   ]
  },
  {
   "cell_type": "markdown",
   "metadata": {},
   "source": [
    "#### Quociente\n",
    "\n",
    "O logaritmo da razão de dois números é a diferença dos logaritmos\n",
    "\n",
    "$\\log_{b}(\\frac{x}{y}) = \\log_{b}(x) - \\log_{b}(y)$\n",
    "\n",
    "$\\log_{10}(\\frac{1000}{10}) = \\log_{10}(1000) - \\log_{10}(10)$"
   ]
  },
  {
   "cell_type": "code",
   "execution_count": 161,
   "metadata": {},
   "outputs": [
    {
     "data": {
      "text/plain": [
       "True"
      ]
     },
     "execution_count": 161,
     "metadata": {},
     "output_type": "execute_result"
    }
   ],
   "source": [
    "math.log10(1000/10) == math.log10(1000) - math.log10(10)"
   ]
  },
  {
   "cell_type": "markdown",
   "metadata": {},
   "source": [
    "$\\log_{10}(\\frac{1000}{10}) = \\log_{10}(1000 \\cdot 10^{-1})$"
   ]
  },
  {
   "cell_type": "code",
   "execution_count": 162,
   "metadata": {},
   "outputs": [
    {
     "data": {
      "text/plain": [
       "True"
      ]
     },
     "execution_count": 162,
     "metadata": {},
     "output_type": "execute_result"
    }
   ],
   "source": [
    "math.log10(1000/10) == math.log10(1000 * (10**-1))"
   ]
  },
  {
   "cell_type": "markdown",
   "metadata": {},
   "source": [
    "$\\log_{10}(1000) + \\log_{10}(10^{-1}) = \\log_{10}(\\frac{1000}{10})$"
   ]
  },
  {
   "cell_type": "code",
   "execution_count": 164,
   "metadata": {},
   "outputs": [
    {
     "data": {
      "text/plain": [
       "True"
      ]
     },
     "execution_count": 164,
     "metadata": {},
     "output_type": "execute_result"
    }
   ],
   "source": [
    "math.log10(1000) + math.log10(10**-1) == math.log10(1000/10)"
   ]
  },
  {
   "cell_type": "markdown",
   "metadata": {},
   "source": [
    "$-1 \\cdot \\log_{10}(10) + \\log_{10}(1000) = \\log_{10}(\\frac{1000}{10})$"
   ]
  },
  {
   "cell_type": "code",
   "execution_count": 253,
   "metadata": {},
   "outputs": [
    {
     "data": {
      "text/plain": [
       "True"
      ]
     },
     "execution_count": 253,
     "metadata": {},
     "output_type": "execute_result"
    }
   ],
   "source": [
    "-1 * math.log10(10) + math.log10(1000) == math.log10(1000/10)"
   ]
  },
  {
   "cell_type": "markdown",
   "metadata": {},
   "source": [
    "#### Raiz\n",
    "\n",
    "$\\log_{b}(\\sqrt{x}) = \\frac{1}{2} \\cdot \\log_{b}(x) $\n",
    "\n",
    "$\\log_{2}(\\sqrt{64}) = \\frac{1}{2} \\cdot \\log_{2}(64) $"
   ]
  },
  {
   "cell_type": "code",
   "execution_count": 198,
   "metadata": {},
   "outputs": [
    {
     "data": {
      "text/plain": [
       "True"
      ]
     },
     "execution_count": 198,
     "metadata": {},
     "output_type": "execute_result"
    }
   ],
   "source": [
    "math.log2(math.sqrt(64)) == 1/2 * math.log2(64)"
   ]
  },
  {
   "cell_type": "markdown",
   "metadata": {},
   "source": [
    "$\\log_{10}(\\sqrt{1000}) = \\frac{1}{2} \\cdot \\log_{10}(1000) $"
   ]
  },
  {
   "cell_type": "code",
   "execution_count": 192,
   "metadata": {},
   "outputs": [
    {
     "data": {
      "text/plain": [
       "True"
      ]
     },
     "execution_count": 192,
     "metadata": {},
     "output_type": "execute_result"
    }
   ],
   "source": [
    "math.log10(math.sqrt(1000)) == 1/2 * math.log10(1000)"
   ]
  }
 ],
 "metadata": {
  "kernelspec": {
   "display_name": "Python 3",
   "language": "python",
   "name": "python3"
  },
  "language_info": {
   "codemirror_mode": {
    "name": "ipython",
    "version": 3
   },
   "file_extension": ".py",
   "mimetype": "text/x-python",
   "name": "python",
   "nbconvert_exporter": "python",
   "pygments_lexer": "ipython3",
   "version": "3.7.4"
  }
 },
 "nbformat": 4,
 "nbformat_minor": 4
}
